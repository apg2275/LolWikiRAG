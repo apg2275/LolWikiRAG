{
 "cells": [
  {
   "cell_type": "code",
   "execution_count": null,
   "metadata": {},
   "outputs": [],
   "source": [
    "%pip install llama-index-embeddings-huggingface llama-index-llms-openai llama-index-vector-stores-qdrant"
   ]
  },
  {
   "cell_type": "code",
   "execution_count": 1,
   "metadata": {},
   "outputs": [],
   "source": [
    "from langchain.embeddings import HuggingFaceEmbeddings\n",
    "from llama_index.core.schema import MetadataMode\n",
    "from llama_index.core.readers import SimpleDirectoryReader\n",
    "from qdrant_client import QdrantClient\n",
    "import pandas as pd\n",
    "import os \n",
    "import warnings\n",
    "import re\n",
    "from llama_index.llms.openai import OpenAI\n",
    "\n",
    "warnings.filterwarnings(\"ignore\", category=DeprecationWarning)\n",
    "warnings.filterwarnings(\"ignore\", category=UserWarning) \n",
    "\n",
    "import nest_asyncio\n",
    "\n",
    "nest_asyncio.apply()"
   ]
  },
  {
   "cell_type": "markdown",
   "metadata": {},
   "source": [
    "Note: May need to copy generic_utils.py from llama_index/core/base/llms into llama_index/core/llms with current version of llama_index == version 0.10.5"
   ]
  },
  {
   "cell_type": "code",
   "execution_count": 6,
   "metadata": {},
   "outputs": [],
   "source": [
    "from llama_index.vector_stores.qdrant import QdrantVectorStore\n",
    "from llama_index.core.storage import StorageContext\n",
    "\n",
    "\n",
    "client = QdrantClient(location=\":memory:\", prefer_grpc=True,enable_hybrid=True)\n",
    "vector_store = QdrantVectorStore(client=client, collection_name=\"lolwiki\",use_async=True)\n",
    "storage_context = StorageContext.from_defaults(vector_store = vector_store)\n"
   ]
  },
  {
   "cell_type": "code",
   "execution_count": 7,
   "metadata": {},
   "outputs": [],
   "source": [
    "os.environ[\"OPENAI_API_KEY\"] = \"OPEN AI KEY\"\n",
    "llm = OpenAI(temperature=0.0, model=\"gpt-3.5-turbo\")"
   ]
  },
  {
   "cell_type": "code",
   "execution_count": null,
   "metadata": {},
   "outputs": [],
   "source": [
    "# Will have to run '%pip install llama-index-llms-huggingface' first\n",
    "# Llama 2 version\n",
    "\n",
    "#from llama_index.llms.huggingface import HuggingFaceLLM\n",
    "# config= {*kwargs}\n",
    "# llm = HuggingFaceLLM(\n",
    "#     model=\"E:\\BlokeLlama2\\Q4\\llama-2-13b-chat.Q4_K_M.gguf\",\n",
    "#     model_type=\"llama\",\n",
    "#     ,\n",
    "#     config = config\n",
    "# ))"
   ]
  },
  {
   "cell_type": "markdown",
   "metadata": {},
   "source": [
    "Utilized BAAI's BGE EN Base v1.5's embeddings that were finetuned for League of Legends domain specific vocabulary that can be found [here](https://github.com/apg2275/LolWikiRAG/blob/main/LolWikiVectorEmbeddings.ipynb)"
   ]
  },
  {
   "cell_type": "code",
   "execution_count": 8,
   "metadata": {},
   "outputs": [],
   "source": [
    "\n",
    "embeddings = HuggingFaceEmbeddings(\n",
    "    model_name=\"PATH TO CUSTOM EMBEDS\", model_kwargs={\"device\": \"cuda\"}\n",
    ")\n",
    "\n",
    "# Or can use the default model\n",
    "# embeddings = HuggingFaceEmbeddings(model_name=\"BAAI/bge-base-en-v1.5\")\n"
   ]
  },
  {
   "cell_type": "code",
   "execution_count": 9,
   "metadata": {},
   "outputs": [],
   "source": [
    "from llama_index.core.node_parser import HTMLNodeParser\n",
    "from llama_index.core import ServiceContext\n",
    "from llama_index.core import set_global_service_context\n",
    "\n",
    "node_parser = HTMLNodeParser(chunk_size=512, chunk_overlap=26)\n",
    "service_context = ServiceContext.from_defaults(llm=llm, embed_model=embeddings, node_parser=node_parser)\n",
    "set_global_service_context(service_context)\n"
   ]
  },
  {
   "cell_type": "code",
   "execution_count": 10,
   "metadata": {},
   "outputs": [],
   "source": [
    "# from llama_index.core.storage import StorageContext\n",
    "from llama_index.core import VectorStoreIndex\n",
    "def indexCreator(directory):\n",
    "    docs = SimpleDirectoryReader(directory, filename_as_id=True).load_data()\n",
    "    node_parser = HTMLNodeParser()\n",
    "    docs = node_parser.get_nodes_from_documents(docs)\n",
    "    vectorstore = VectorStoreIndex([], storage_context=storage_context,service_context=service_context, use_async=True, show_progress=True)\n",
    "    vectorstore.insert_nodes(docs)\n",
    "    return vectorstore"
   ]
  },
  {
   "cell_type": "code",
   "execution_count": 11,
   "metadata": {},
   "outputs": [],
   "source": [
    "# Create the indexes for each category\n",
    "\n",
    "champ_vector_index = indexCreator('LoLWikiHTML/Champions')\n",
    "skin_vector_index = indexCreator(\"LoLWikiHTML/Skins\")\n",
    "gameplay_vector_index = indexCreator(\"LoLWikiHTML/GameplayElements\")\n",
    "item_vector_index = indexCreator(\"LoLWikiHTML/Items\")\n",
    "map_vector_index = indexCreator(\"LoLWikiHTML/GameModes\")\n",
    "patch_vector_index = indexCreator(\"LoLWikiHTML/PatchNotes\")\n",
    "voiceline_vector_index = indexCreator(\"LoLWikiHTML/VoiceLines\")\n",
    "rework_vector_index = indexCreator(\"LoLWikiHTML/Reworks\")"
   ]
  },
  {
   "cell_type": "code",
   "execution_count": null,
   "metadata": {},
   "outputs": [],
   "source": [
    "## Save the indexes to disk\n",
    "\n",
    "# champ_vector_index.storage_context.persist('E:\\IndexStores/Champions')\n",
    "# skin_vector_index.storage_context.persist('E:\\IndexStores/Skins')\n",
    "# gameplay_vector_index.storage_context.persist('E:\\IndexStores/GameplayElements')\n",
    "# item_vector_index.storage_context.persist('E:\\IndexStores/Items')\n",
    "# map_vector_index.storage_context.persist('E:\\IndexStores/GameModes')\n",
    "# patch_vector_index.storage_context.persist('E:\\IndexStores/PatchNotes')\n",
    "# voiceline_vector_index.storage_context.persist('E:\\IndexStores/VoiceLines')\n",
    "# rework_vector_index.storage_context.persist('E:\\IndexStores/Reworks')"
   ]
  },
  {
   "cell_type": "code",
   "execution_count": 60,
   "metadata": {},
   "outputs": [],
   "source": [
    "from llama_index.core.query_engine.retriever_query_engine import RetrieverQueryEngine\n",
    "from llama_index.core.indices.vector_store import VectorIndexRetriever\n",
    "from llama_index.core.postprocessor import MetadataReplacementPostProcessor\n",
    "\n",
    "def retriever_and_engine(index, info):\n",
    "    retriever = VectorIndexRetriever(index, vector_store_info = info,similarity_top_k=5)\n",
    "    query_engine = index.as_query_engine(similarity_top_k=5, use_async=True)\n",
    "    return retriever, query_engine"
   ]
  },
  {
   "cell_type": "code",
   "execution_count": 61,
   "metadata": {},
   "outputs": [],
   "source": [
    "from llama_index.core.vector_stores.types import MetadataInfo, VectorStoreInfo\n",
    "\n",
    "champ_vector_store_info = VectorStoreInfo(\n",
    "    content_info=\"Current information about champions' abilities base stats and other gameplay information about champions\",\n",
    "    metadata_info=[\n",
    "        MetadataInfo(\n",
    "            name=\"Champions\",\n",
    "            type=\"str\",\n",
    "            description=\"Collection of champions\",\n",
    "        )\n",
    "    ]\n",
    ")\n",
    "\n",
    "\n",
    "skin_vector_store_info = VectorStoreInfo(\n",
    "    content_info=\"Current information about champion's skins and other cosmetic information relating to the champions/characters in League of Legends\",\n",
    "    metadata_info=[\n",
    "        MetadataInfo(\n",
    "            name=\"Skins\",\n",
    "            type=\"str\",\n",
    "            description=\"Skin and Cosmetic information for champions in League of Legends\",\n",
    "        )\n",
    "    ]\n",
    ")\n",
    "\n",
    "gameplay_vector_store_info = VectorStoreInfo(\n",
    "    content_info=\"Information about the gameplay mechanics and interactions such as ability types and jungle within the game League of Legends\",\n",
    "    metadata_info=[\n",
    "        MetadataInfo(\n",
    "            name=\"GameplayMechanics\",\n",
    "            type=\"str\",\n",
    "            description=\"Information about what the ability properties are and how the game works in general.\",\n",
    "        )\n",
    "    ]\n",
    ")\n",
    "\n",
    "item_vector_store_info = VectorStoreInfo(\n",
    "    content_info=\"Information about items and their properities/stats in League of Legends\",\n",
    "    metadata_info=[\n",
    "        MetadataInfo(\n",
    "            name=\"Items\",\n",
    "            type=\"str\",\n",
    "            description=\"Items and their properties in League of Legends.\",\n",
    "        )\n",
    "    ]\n",
    ")\n",
    "\n",
    "map_vector_store_info = VectorStoreInfo(\n",
    "    content_info=\"Information maps and game modes in League of Legends\",\n",
    "    metadata_info=[\n",
    "        MetadataInfo(\n",
    "            name=\"GameModes\",\n",
    "            type=\"str\",\n",
    "            description=\"Information about maps/game modes in League of Legends.\",\n",
    "        )\n",
    "    ]\n",
    ")\n",
    "\n",
    "patch_vector_store_info = VectorStoreInfo(\n",
    "    content_info=\"Historical information about patches AKA changes to the game League of Legends\",\n",
    "    metadata_info=[\n",
    "        MetadataInfo(\n",
    "            name=\"Patches\",\n",
    "            type=\"str\",\n",
    "            description=\"Patch notes and changes to the game League of Legends.\",\n",
    "        )\n",
    "    ]\n",
    ")\n",
    "\n",
    "voiceline_vector_store_info = VectorStoreInfo(\n",
    "    content_info=\"Information voice lines and audio information in League of Legends\",\n",
    "    metadata_info=[\n",
    "        MetadataInfo(\n",
    "            name=\"VoiceLines\",\n",
    "            type=\"str\",\n",
    "            description=\"Voice lines and speech from champions.\",\n",
    "        )\n",
    "    ]\n",
    ")\n",
    "\n",
    "rework_vector_store_info = VectorStoreInfo(\n",
    "    content_info=\"Historical information about large scale changes and removed or reworked abilities in League of Legends that are no longer in the game\",\n",
    "    metadata_info=[\n",
    "        MetadataInfo(\n",
    "            name=\"Reworks\",\n",
    "            type=\"str\",\n",
    "            description=\"Information about abilities that have been reworked or removed from the game.\",\n",
    "        )\n",
    "    ]\n",
    ")"
   ]
  },
  {
   "cell_type": "code",
   "execution_count": 62,
   "metadata": {},
   "outputs": [],
   "source": [
    "champ_vector_auto_retriever, champ_query_engine = retriever_and_engine(champ_vector_index, champ_vector_store_info)\n",
    "skin_vector_auto_retriever, skin_query_engine = retriever_and_engine(skin_vector_index, skin_vector_store_info)\n",
    "gameplay_vector_auto_retriever, gameplay_query_engine = retriever_and_engine(gameplay_vector_index, gameplay_vector_store_info)\n",
    "item_vector_auto_retriever, item_query_engine = retriever_and_engine(item_vector_index, item_vector_store_info)\n",
    "map_vector_auto_retriever, map_query_engine = retriever_and_engine(map_vector_index, map_vector_store_info)\n",
    "patch_vector_auto_retriever, patch_query_engine = retriever_and_engine(patch_vector_index, patch_vector_store_info)\n",
    "voiceline_vector_auto_retriever, voiceline_query_engine = retriever_and_engine(voiceline_vector_index, voiceline_vector_store_info)\n",
    "rework_vector_auto_retriever, rework_query_engine = retriever_and_engine(rework_vector_index, rework_vector_store_info)"
   ]
  },
  {
   "cell_type": "code",
   "execution_count": 64,
   "metadata": {},
   "outputs": [],
   "source": [
    "from llama_index.core.tools import RetrieverTool\n",
    "\n",
    "retriever_tools = [\n",
    "RetrieverTool.from_defaults(\n",
    "    retriever= champ_vector_auto_retriever,\n",
    "    name=\"Champions\",\n",
    "    description=\"Provides current information about champion's gameplay information such as: abilities and their properties, stats and map specific changes.\",\n",
    "),\n",
    "RetrieverTool.from_defaults(\n",
    "    retriever= skin_vector_auto_retriever,\n",
    "    name=\"Skins\",\n",
    "    description=\n",
    "        \"Provides information about skins and other cosmetic information for champions.\"\n",
    "    )\n",
    ",\n",
    "RetrieverTool.from_defaults(\n",
    "    retriever=item_vector_auto_retriever,\n",
    "    name=\"Items\",\n",
    "    description=\n",
    "        \"Provides information about items and their stats and properties.\"\n",
    "    )\n",
    ",\n",
    "RetrieverTool.from_defaults(\n",
    "    retriever=map_vector_auto_retriever,\n",
    "    name = \"GameModes\",\n",
    "    description=\"Provides information about maps and game modes in League of Legends.\"\n",
    "    )\n",
    ",\n",
    "RetrieverTool.from_defaults(\n",
    "    retriever=patch_vector_auto_retriever,\n",
    "    name=\"Patches\",\n",
    "    description=\n",
    "        \"Provides information about patches and changes to the game.\"\n",
    "    )\n",
    ",\n",
    "RetrieverTool.from_defaults(\n",
    "    retriever=voiceline_vector_auto_retriever,\n",
    "    name=\"VoiceLines\",\n",
    "    description=\n",
    "        \"Provides information about voice lines, speech, and audio in League of Legends.\"\n",
    "    )\n",
    ",\n",
    "RetrieverTool.from_defaults(\n",
    "    retriever=rework_vector_auto_retriever,\n",
    "    name=\"Reworks\",\n",
    "    description=\n",
    "        \"Provides old information about large scale changes and removed and/or reworked abilities in League of Legends that are no longer in the game.\"\n",
    "    )\n",
    "]"
   ]
  },
  {
   "cell_type": "markdown",
   "metadata": {},
   "source": [
    "Table of champion's base stats taken from [LolWiki's Champion Data Table](https://leagueoflegends.fandom.com/wiki/Module:ChampionData/data?action=edit). Then converetd the lua format to an dict using the package luadata then from that converted to csv."
   ]
  },
  {
   "cell_type": "code",
   "execution_count": null,
   "metadata": {},
   "outputs": [],
   "source": [
    "# df = pd.read_csv(\"LolWikiHTML\\champion_stat_dict.csv\")"
   ]
  },
  {
   "cell_type": "code",
   "execution_count": null,
   "metadata": {},
   "outputs": [],
   "source": [
    "# from llama_index.core.query_engine import PandasQueryEngine\n",
    "# pandas_engine = PandasQueryEngine(df, verbose=True)"
   ]
  },
  {
   "cell_type": "code",
   "execution_count": null,
   "metadata": {},
   "outputs": [],
   "source": [
    "# QueryEngineTool.from_defaults(\n",
    "#     query_engine= pandas_engine,\n",
    "#     name=\"Pandas Query\",\n",
    "#     description=\n",
    "#         \"Useful for turning natural language into a pandas query for information about champion's base stats.\"\n",
    "#     )"
   ]
  },
  {
   "cell_type": "code",
   "execution_count": 65,
   "metadata": {},
   "outputs": [],
   "source": [
    "from llama_index.core.tools import QueryEngineTool\n",
    "from llama_index.core.query_engine import SubQuestionQueryEngine\n",
    "query_engine_tools = [\n",
    "QueryEngineTool.from_defaults(\n",
    "    query_engine= champ_query_engine,\n",
    "    name=\"Champions\",\n",
    "    description=\"Provides current information about specific champions' gameplay information such as: abilities and their properties, stats and map/game mode specific changes\",\n",
    "),\n",
    "QueryEngineTool.from_defaults(\n",
    "    query_engine= skin_query_engine,\n",
    "    name=\"Skins\",\n",
    "    description=\n",
    "        \"Provides information about skins and other cosmetic information for champions.\"\n",
    "    )\n",
    ",\n",
    "QueryEngineTool.from_defaults(\n",
    "    query_engine= gameplay_query_engine,\n",
    "    name=\"GameplayMechanics\",\n",
    "    description=\n",
    "        \"Provides information about the gameplay mechanics and interactions such as ability types and jungle within the game League of Legends.\"\n",
    "    )\n",
    ",\n",
    "QueryEngineTool.from_defaults(\n",
    "    query_engine=item_query_engine,\n",
    "    name=\"Items\",\n",
    "    description=\n",
    "        \"Provides information about items and their stats and properties.\"\n",
    "    )\n",
    ",\n",
    "QueryEngineTool.from_defaults(\n",
    "    query_engine= map_query_engine,\n",
    "    name=\"GameModes\",\n",
    "    description=\n",
    "        \"Provides information about maps and game modes in League of Legends.\"\n",
    "    )\n",
    ",\n",
    "QueryEngineTool.from_defaults(\n",
    "    query_engine= patch_query_engine,\n",
    "    name=\"Patches\",\n",
    "    description=\n",
    "        \"Provides information about patches and changes to the game.\"\n",
    "    )\n",
    ",\n",
    "QueryEngineTool.from_defaults(\n",
    "    query_engine= voiceline_query_engine,\n",
    "    name=\"VoiceLines\",\n",
    "    description=\n",
    "        \"Provides information about voice lines, speech, and audio in League of Legends.\"\n",
    "    )\n",
    ",\n",
    "QueryEngineTool.from_defaults(\n",
    "    query_engine= rework_query_engine,\n",
    "    name=\"Reworks\",\n",
    "    description=\n",
    "        \"Provides old information about large scale changes and removed and/or reworked abilities in League of Legends that are no longer in the game.\"\n",
    "    )\n",
    "\n",
    "\n",
    "]"
   ]
  },
  {
   "cell_type": "code",
   "execution_count": 77,
   "metadata": {},
   "outputs": [],
   "source": [
    "from llama_index.core.prompts import PromptTemplate\n",
    "\n",
    "template = \"\"\"\"\\\n",
    "### Instruction:\n",
    "Below is an instruction that describes a task. Write a response that appropriately completes the request.\n",
    "\n",
    "Your goal is to provide answers relating a video game. \n",
    " Be sure to think carefully and follow through with logic and think step by step when thinking about interactions between champions, items, abilities, etc. \n",
    " When prompted for information be sure to relay the exact values.\n",
    "\n",
    " If an answer contains several parts be sure to list all of them out. For example, if asked about how many skins a champion has, list out the names of *ALL* the skins.\n",
    "\n",
    " Based on the provided context, please answer the provided question. You can only use the provided context to answer the question.\n",
    "If you do not know the answer - please respond with \"I don't know\".\n",
    "\n",
    "Above all else make sure your answer is accurate.\n",
    "\n",
    "Question:\n",
    "{question}\n",
    "\n",
    "### Response:\n",
    "\"\"\"\n",
    "\n",
    "rag_prompt = PromptTemplate(template)"
   ]
  },
  {
   "cell_type": "code",
   "execution_count": 78,
   "metadata": {},
   "outputs": [],
   "source": [
    "from llama_index.core.retrievers import RouterRetriever\n",
    "from llama_index.core.selectors.pydantic_selectors import PydanticMultiSelector\n",
    "\n",
    "multiretrieve = RouterRetriever(\n",
    "    selector=PydanticMultiSelector.from_defaults(),\n",
    "    retriever_tools = retriever_tools,\n",
    ")"
   ]
  },
  {
   "cell_type": "code",
   "execution_count": 95,
   "metadata": {},
   "outputs": [],
   "source": [
    "from llama_index.core.query_pipeline.query import QueryPipeline\n",
    "from llama_index.core.postprocessor import LLMRerank\n",
    "from llama_index.core.response_synthesizers import get_response_synthesizer\n",
    "reranker = LLMRerank(top_n=4)\n",
    "summarizer = get_response_synthesizer(\n",
    "    response_mode=\"refine\",\n",
    "    llm=llm,\n",
    "    verbose=True,\n",
    "    structured_answer_filtering=True\n",
    ")\n",
    "\n",
    "\n",
    "p = QueryPipeline(verbose=True)\n",
    "p.add_modules(\n",
    "    {\n",
    "        \"llm\": llm,\n",
    "        \"prompt_tmpl\": rag_prompt,\n",
    "        \"retriever\": multiretrieve,\n",
    "        \"reranker\": reranker,\n",
    "        \"summary\": summarizer\n",
    "    }\n",
    ")\n",
    "p.add_link(\"prompt_tmpl\", \"llm\")\n",
    "p.add_link(\"llm\", \"retriever\")\n",
    "p.add_link(\"retriever\", \"reranker\", dest_key=\"nodes\")\n",
    "p.add_link(\"llm\", \"reranker\", dest_key=\"query_str\")\n",
    "p.add_link(\"reranker\", \"summary\", dest_key=\"nodes\")\n",
    "p.add_link(\"llm\", \"summary\", dest_key='query_str')"
   ]
  },
  {
   "cell_type": "code",
   "execution_count": 81,
   "metadata": {},
   "outputs": [
    {
     "name": "stdout",
     "output_type": "stream",
     "text": [
      "\u001b[1;3;38;2;155;135;227m> Running module prompt_tmpl with input: \n",
      "question: Does Olaf lose his bonus armor and mr after ulting?\n",
      "\n",
      "\u001b[0m\u001b[1;3;38;2;155;135;227m> Running module llm with input: \n",
      "messages: \"### Instruction:\n",
      "Below is an instruction that describes a task. Write a response that appropriately completes the request.\n",
      "\n",
      "Your goal is to provide answers relating a video game. \n",
      " Be sure to think c...\n",
      "\n",
      "\u001b[0m\u001b[1;3;38;2;155;135;227m> Running module retriever with input: \n",
      "input: assistant: No, Olaf does not lose his bonus armor and magic resist after ulting. His ultimate ability, Ragnarok, grants him bonus attack damage, immunity to crowd control effects, and increased attack...\n",
      "\n",
      "\u001b[0m\u001b[1;3;38;2;155;135;227m> Running module reranker with input: \n",
      "query_str: assistant: No, Olaf does not lose his bonus armor and magic resist after ulting. His ultimate ability, Ragnarok, grants him bonus attack damage, immunity to crowd control effects, and increased attack...\n",
      "nodes: [NodeWithScore(node=TextNode(id_='6980992f-7869-4e03-90ad-470336cf65e2', embedding=None, metadata={'tag': 'li', 'file_path': 'E:\\\\LoLWikiHTML\\\\Champions\\\\Olaf_LoL.html', 'file_name': 'Olaf_LoL.html', ...\n",
      "\n",
      "\u001b[0m\u001b[1;3;38;2;155;135;227m> Running module c_a with input: \n",
      "query_str: assistant: No, Olaf does not lose his bonus armor and magic resist after ulting. His ultimate ability, Ragnarok, grants him bonus attack damage, immunity to crowd control effects, and increased attack...\n",
      "nodes: [NodeWithScore(node=TextNode(id_='21432c4c-008b-46d1-951a-ecda270f3d02', embedding=None, metadata={'tag': 'li', 'file_path': 'E:\\\\LoLWikiHTML\\\\Champions\\\\Olaf_LoL.html', 'file_name': 'Olaf_LoL.html', ...\n",
      "\n",
      "\u001b[0mFunction call: StructuredRefineResponse with args: {\"answer\":\"False, Olaf no longer loses his bonus resistances upon casting his ultimate ability, Ragnarok. The bonus resistances are now retained after using Ragnarok.\",\"query_satisfied\":true}\n",
      "> Refine context: tag: li\n",
      "file_path: E:\\LoLWikiHTML\\PatchNotes\\V1...\n",
      "Function call: StructuredRefineResponse with args: {\"answer\":\"False, Olaf no longer loses his bonus resistances upon casting his ultimate ability, Ragnarok. The bonus resistances are now retained after using Ragnarok.\",\"query_satisfied\":true}\n",
      "> Refine context: tag: li\n",
      "file_path: E:\\LoLWikiHTML\\Champions\\Ola...\n",
      "Function call: StructuredRefineResponse with args: {\"answer\":\"False, Olaf no longer loses his bonus resistances upon casting his ultimate ability, Ragnarok. The bonus resistances are now retained after using Ragnarok.\",\"query_satisfied\":true}\n"
     ]
    }
   ],
   "source": [
    "output = p.run(question=\"Does Olaf lose his bonus armor and mr after ulting?\")"
   ]
  },
  {
   "cell_type": "code",
   "execution_count": 82,
   "metadata": {},
   "outputs": [
    {
     "name": "stdout",
     "output_type": "stream",
     "text": [
      "False, Olaf no longer loses his bonus resistances upon casting his ultimate ability, Ragnarok. The bonus resistances are now retained after using Ragnarok.\n"
     ]
    }
   ],
   "source": [
    "print(output)"
   ]
  },
  {
   "cell_type": "code",
   "execution_count": 85,
   "metadata": {},
   "outputs": [
    {
     "name": "stdout",
     "output_type": "stream",
     "text": [
      "\u001b[1;3;38;2;155;135;227m> Running module prompt_tmpl with input: \n",
      "question: Does Gragas E stop Lee sin Q?\n",
      "\n",
      "\u001b[0m\u001b[1;3;38;2;155;135;227m> Running module llm with input: \n",
      "messages: \"### Instruction:\n",
      "Below is an instruction that describes a task. Write a response that appropriately completes the request.\n",
      "\n",
      "Your goal is to provide answers relating a video game. \n",
      " Be sure to think c...\n",
      "\n",
      "\u001b[0m\u001b[1;3;38;2;155;135;227m> Running module retriever with input: \n",
      "input: assistant: Yes, Gragas' E ability (Body Slam) can stop Lee Sin's Q ability (Sonic Wave/Resonating Strike). When Gragas uses Body Slam, he dashes to a target location and collides with the first enemy ...\n",
      "\n",
      "\u001b[0m\u001b[1;3;38;2;155;135;227m> Running module reranker with input: \n",
      "query_str: assistant: Yes, Gragas' E ability (Body Slam) can stop Lee Sin's Q ability (Sonic Wave/Resonating Strike). When Gragas uses Body Slam, he dashes to a target location and collides with the first enemy ...\n",
      "nodes: [NodeWithScore(node=TextNode(id_='3199bfc3-64e6-4bb9-a61d-51d6182408d3', embedding=None, metadata={'tag': 'li', 'file_path': 'E:\\\\LoLWikiHTML\\\\Champions\\\\Gragas_LoL.html', 'file_name': 'Gragas_LoL.htm...\n",
      "\n",
      "\u001b[0m\u001b[1;3;38;2;155;135;227m> Running module c_a with input: \n",
      "query_str: assistant: Yes, Gragas' E ability (Body Slam) can stop Lee Sin's Q ability (Sonic Wave/Resonating Strike). When Gragas uses Body Slam, he dashes to a target location and collides with the first enemy ...\n",
      "nodes: [NodeWithScore(node=TextNode(id_='3199bfc3-64e6-4bb9-a61d-51d6182408d3', embedding=None, metadata={'tag': 'li', 'file_path': 'E:\\\\LoLWikiHTML\\\\Champions\\\\Gragas_LoL.html', 'file_name': 'Gragas_LoL.htm...\n",
      "\n",
      "\u001b[0mFunction call: StructuredRefineResponse with args: {\"answer\":\"Yes, Gragas' E ability (Body Slam) can interrupt Lee Sin's Q ability (Sonic Wave/Resonating Strike). When Gragas uses Body Slam, he dashes to a target location and collides with the first enemy unit he hits, knocking them back and dealing damage. If Gragas hits Lee Sin with Body Slam while Lee Sin is using Sonic Wave (Q), it will interrupt Lee Sin's dash and prevent him from following up with Resonating Strike.\",\"query_satisfied\":true}\n",
      "> Refine context: tag: li\n",
      "file_path: E:\\LoLWikiHTML\\Champions\\Lee...\n",
      "Function call: StructuredRefineResponse with args: {\"answer\":\"Yes, Gragas' E ability (Body Slam) can interrupt Lee Sin's Q ability (Sonic Wave/Resonating Strike). When Gragas uses Body Slam, he dashes to a target location and collides with the first enemy unit he hits, knocking them back and dealing damage. If Gragas hits Lee Sin with Body Slam while Lee Sin is using Sonic Wave (Q), it will interrupt Lee Sin's dash and prevent him from following up with Resonating Strike.\",\"query_satisfied\":true}\n"
     ]
    }
   ],
   "source": [
    "output2 = p.run(question=\"Does Gragas E stop Lee sin Q?\")"
   ]
  },
  {
   "cell_type": "code",
   "execution_count": 88,
   "metadata": {},
   "outputs": [
    {
     "data": {
      "text/plain": [
       "\"Yes, Gragas' E ability (Body Slam) can interrupt Lee Sin's Q ability (Sonic Wave/Resonating Strike). When Gragas uses Body Slam, he dashes to a target location and collides with the first enemy unit he hits, knocking them back and dealing damage. If Gragas hits Lee Sin with Body Slam while Lee Sin is using Sonic Wave (Q), it will interrupt Lee Sin's dash and prevent him from following up with Resonating Strike.\""
      ]
     },
     "execution_count": 88,
     "metadata": {},
     "output_type": "execute_result"
    }
   ],
   "source": [
    "output2.response"
   ]
  },
  {
   "cell_type": "code",
   "execution_count": null,
   "metadata": {},
   "outputs": [
    {
     "name": "stdout",
     "output_type": "stream",
     "text": [
      "\u001b[1;3;38;2;155;135;227m> Running module prompt_tmpl with input: \n",
      "question: What is Akali's kit?\n",
      "\n",
      "\u001b[0m\u001b[1;3;38;2;155;135;227m> Running module llm with input: \n",
      "messages: \"### Instruction:\n",
      "Below is an instruction that describes a task. Write a response that appropriately completes the request.\n",
      "\n",
      "Your goal is to provide answers relating a video game. \n",
      " Be sure to think c...\n",
      "\n",
      "\u001b[0m\u001b[1;3;38;2;155;135;227m> Running module retriever with input: \n",
      "input: assistant: Akali's kit consists of the following abilities:\n",
      "\n",
      "1. Passive - Assassin's Mark: Akali's first two basic attacks against an enemy champion will deal bonus magic damage and restore energy.\n",
      "2....\n",
      "\n",
      "\u001b[0m\u001b[1;3;38;2;155;135;227m> Running module reranker with input: \n",
      "query_str: assistant: Akali's kit consists of the following abilities:\n",
      "\n",
      "1. Passive - Assassin's Mark: Akali's first two basic attacks against an enemy champion will deal bonus magic damage and restore energy.\n",
      "2....\n",
      "nodes: [NodeWithScore(node=TextNode(id_='65c9d8ab-e1bf-4d49-96a2-eb738ff66148', embedding=None, metadata={'tag': 'li', 'file_path': 'E:\\\\LoLWikiHTML\\\\Champions\\\\Akali_LoL.html', 'file_name': 'Akali_LoL.html'...\n",
      "\n",
      "\u001b[0m\u001b[1;3;38;2;155;135;227m> Running module c_a with input: \n",
      "query_str: assistant: Akali's kit consists of the following abilities:\n",
      "\n",
      "1. Passive - Assassin's Mark: Akali's first two basic attacks against an enemy champion will deal bonus magic damage and restore energy.\n",
      "2....\n",
      "nodes: [NodeWithScore(node=TextNode(id_='65c9d8ab-e1bf-4d49-96a2-eb738ff66148', embedding=None, metadata={'tag': 'li', 'file_path': 'E:\\\\LoLWikiHTML\\\\Champions\\\\Akali_LoL.html', 'file_name': 'Akali_LoL.html'...\n",
      "\n",
      "\u001b[0mFunction call: StructuredRefineResponse with args: {\"answer\":\"Akali's kit consists of the following abilities: Passive - Assassin's Mark, Q - Five Point Strike, W - Twilight Shroud, E - Shuriken Flip, R - Perfect Execution.\",\"query_satisfied\":true}\n",
      "> Refine context: tag: li\n",
      "file_path: E:\\LoLWikiHTML\\Champions\\Aka...\n",
      "Function call: StructuredRefineResponse with args: {\"answer\":\"Akali's abilities include Passive - Assassin's Mark, Q - Five Point Strike, W - Twilight Shroud, E - Shuriken Flip, R - Perfect Execution.\",\"query_satisfied\":true}\n",
      "> Refine context: tag: li\n",
      "file_path: E:\\LoLWikiHTML\\Champions\\Aka...\n",
      "Function call: StructuredRefineResponse with args: {\"answer\":\"Akali's abilities include Passive - Assassin's Mark, Q - Five Point Strike, W - Twilight Shroud, E - Shuriken Flip, R - Perfect Execution.\",\"query_satisfied\":true}\n"
     ]
    }
   ],
   "source": [
    "output3 = p.run(question=\"What is Akali's kit?\")"
   ]
  },
  {
   "cell_type": "code",
   "execution_count": 90,
   "metadata": {},
   "outputs": [
    {
     "name": "stdout",
     "output_type": "stream",
     "text": [
      "Akali's abilities include Passive - Assassin's Mark, Q - Five Point Strike, W - Twilight Shroud, E - Shuriken Flip, R - Perfect Execution.\n"
     ]
    }
   ],
   "source": [
    "print(output3)"
   ]
  },
  {
   "cell_type": "code",
   "execution_count": 91,
   "metadata": {},
   "outputs": [
    {
     "name": "stdout",
     "output_type": "stream",
     "text": [
      "\u001b[1;3;38;2;155;135;227m> Running module prompt_tmpl with input: \n",
      "question: Does Yorick's ghouls proc Liandry's?\n",
      "\n",
      "\u001b[0m\u001b[1;3;38;2;155;135;227m> Running module llm with input: \n",
      "messages: \"### Instruction:\n",
      "Below is an instruction that describes a task. Write a response that appropriately completes the request.\n",
      "\n",
      "Your goal is to provide answers relating a video game. \n",
      " Be sure to think c...\n",
      "\n",
      "\u001b[0m\u001b[1;3;38;2;155;135;227m> Running module retriever with input: \n",
      "input: assistant: Yes, Yorick's ghouls do proc Liandry's Torment. Liandry's Torment deals bonus damage over time based on the target's current health, and Yorick's ghouls' attacks count as single target spel...\n",
      "\n",
      "\u001b[0m\u001b[1;3;38;2;155;135;227m> Running module reranker with input: \n",
      "query_str: assistant: Yes, Yorick's ghouls do proc Liandry's Torment. Liandry's Torment deals bonus damage over time based on the target's current health, and Yorick's ghouls' attacks count as single target spel...\n",
      "nodes: [NodeWithScore(node=TextNode(id_='f3d89ee0-8ca8-4c81-b7e2-f26bcc52437a', embedding=None, metadata={'tag': 'li', 'file_path': 'E:\\\\LoLWikiHTML\\\\Items\\\\Liandry%27s Torment.html', 'file_name': 'Liandry%2...\n",
      "\n",
      "\u001b[0m\u001b[1;3;38;2;155;135;227m> Running module c_a with input: \n",
      "query_str: assistant: Yes, Yorick's ghouls do proc Liandry's Torment. Liandry's Torment deals bonus damage over time based on the target's current health, and Yorick's ghouls' attacks count as single target spel...\n",
      "nodes: [NodeWithScore(node=TextNode(id_='f3d89ee0-8ca8-4c81-b7e2-f26bcc52437a', embedding=None, metadata={'tag': 'li', 'file_path': 'E:\\\\LoLWikiHTML\\\\Items\\\\Liandry%27s Torment.html', 'file_name': 'Liandry%2...\n",
      "\n",
      "\u001b[0mFunction call: StructuredRefineResponse with args: {\"answer\":\"Yes, Yorick's ghouls do proc Liandry's Torment. Liandry's Torment deals bonus damage over time based on the target's current health, and Yorick's ghouls' attacks count as single target spells, which means they will apply the Liandry's Torment burn effect.\",\"query_satisfied\":true}\n",
      "> Refine context: tag: li\n",
      "file_path: E:\\LoLWikiHTML\\Items\\Liandry...\n",
      "Function call: StructuredRefineResponse with args: {\"answer\":\"Yes, Yorick's ghouls can trigger Liandry's Torment. The burn effect from Liandry's Torment, which deals magic damage based on the target's maximum health, is applied when Yorick's ghouls deal ability damage, as their attacks count as single target spells.\",\"query_satisfied\":true}\n"
     ]
    }
   ],
   "source": [
    "output4 = p.run(question=\"Does Yorick's ghouls proc Liandry's?\")"
   ]
  },
  {
   "cell_type": "code",
   "execution_count": 92,
   "metadata": {},
   "outputs": [
    {
     "name": "stdout",
     "output_type": "stream",
     "text": [
      "Yes, Yorick's ghouls can trigger Liandry's Torment. The burn effect from Liandry's Torment, which deals magic damage based on the target's maximum health, is applied when Yorick's ghouls deal ability damage, as their attacks count as single target spells.\n"
     ]
    }
   ],
   "source": [
    "print(output4)"
   ]
  }
 ],
 "metadata": {
  "kernelspec": {
   "display_name": "Python 3",
   "language": "python",
   "name": "python3"
  },
  "language_info": {
   "codemirror_mode": {
    "name": "ipython",
    "version": 3
   },
   "file_extension": ".py",
   "mimetype": "text/x-python",
   "name": "python",
   "nbconvert_exporter": "python",
   "pygments_lexer": "ipython3",
   "version": "3.10.11"
  }
 },
 "nbformat": 4,
 "nbformat_minor": 2
}
